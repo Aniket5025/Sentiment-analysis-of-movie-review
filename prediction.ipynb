{
 "cells": [
  {
   "cell_type": "code",
   "execution_count": 1,
   "id": "c50494b2",
   "metadata": {},
   "outputs": [],
   "source": [
    "import numpy as np\n",
    "import tensorflow as ts\n",
    "from tensorflow.keras.datasets import imdb\n",
    "from tensorflow.keras.preprocessing import sequence\n",
    "from tensorflow.keras.models import load_model"
   ]
  },
  {
   "cell_type": "code",
   "execution_count": 2,
   "id": "9fc82ed0",
   "metadata": {},
   "outputs": [],
   "source": [
    "# Load the IMDB dataset word index\n",
    "word_index=imdb.get_word_index()\n",
    "reverse_word_index={value:key for key,value in word_index.items()}"
   ]
  },
  {
   "cell_type": "code",
   "execution_count": 3,
   "id": "5e7eb719",
   "metadata": {},
   "outputs": [
    {
     "name": "stderr",
     "output_type": "stream",
     "text": [
      "WARNING:absl:Compiled the loaded model, but the compiled metrics have yet to be built. `model.compile_metrics` will be empty until you train or evaluate the model.\n"
     ]
    },
    {
     "data": {
      "text/html": [
       "<pre style=\"white-space:pre;overflow-x:auto;line-height:normal;font-family:Menlo,'DejaVu Sans Mono',consolas,'Courier New',monospace\"><span style=\"font-weight: bold\">Model: \"sequential\"</span>\n",
       "</pre>\n"
      ],
      "text/plain": [
       "\u001b[1mModel: \"sequential\"\u001b[0m\n"
      ]
     },
     "metadata": {},
     "output_type": "display_data"
    },
    {
     "data": {
      "text/html": [
       "<pre style=\"white-space:pre;overflow-x:auto;line-height:normal;font-family:Menlo,'DejaVu Sans Mono',consolas,'Courier New',monospace\">┏━━━━━━━━━━━━━━━━━━━━━━━━━━━━━━━━━┳━━━━━━━━━━━━━━━━━━━━━━━━┳━━━━━━━━━━━━━━━┓\n",
       "┃<span style=\"font-weight: bold\"> Layer (type)                    </span>┃<span style=\"font-weight: bold\"> Output Shape           </span>┃<span style=\"font-weight: bold\">       Param # </span>┃\n",
       "┡━━━━━━━━━━━━━━━━━━━━━━━━━━━━━━━━━╇━━━━━━━━━━━━━━━━━━━━━━━━╇━━━━━━━━━━━━━━━┩\n",
       "│ embedding (<span style=\"color: #0087ff; text-decoration-color: #0087ff\">Embedding</span>)           │ (<span style=\"color: #00af00; text-decoration-color: #00af00\">32</span>, <span style=\"color: #00af00; text-decoration-color: #00af00\">500</span>, <span style=\"color: #00af00; text-decoration-color: #00af00\">128</span>)         │     <span style=\"color: #00af00; text-decoration-color: #00af00\">1,280,000</span> │\n",
       "├─────────────────────────────────┼────────────────────────┼───────────────┤\n",
       "│ simple_rnn (<span style=\"color: #0087ff; text-decoration-color: #0087ff\">SimpleRNN</span>)          │ (<span style=\"color: #00af00; text-decoration-color: #00af00\">32</span>, <span style=\"color: #00af00; text-decoration-color: #00af00\">128</span>)              │        <span style=\"color: #00af00; text-decoration-color: #00af00\">32,896</span> │\n",
       "├─────────────────────────────────┼────────────────────────┼───────────────┤\n",
       "│ dense (<span style=\"color: #0087ff; text-decoration-color: #0087ff\">Dense</span>)                   │ (<span style=\"color: #00af00; text-decoration-color: #00af00\">32</span>, <span style=\"color: #00af00; text-decoration-color: #00af00\">1</span>)                │           <span style=\"color: #00af00; text-decoration-color: #00af00\">129</span> │\n",
       "└─────────────────────────────────┴────────────────────────┴───────────────┘\n",
       "</pre>\n"
      ],
      "text/plain": [
       "┏━━━━━━━━━━━━━━━━━━━━━━━━━━━━━━━━━┳━━━━━━━━━━━━━━━━━━━━━━━━┳━━━━━━━━━━━━━━━┓\n",
       "┃\u001b[1m \u001b[0m\u001b[1mLayer (type)                   \u001b[0m\u001b[1m \u001b[0m┃\u001b[1m \u001b[0m\u001b[1mOutput Shape          \u001b[0m\u001b[1m \u001b[0m┃\u001b[1m \u001b[0m\u001b[1m      Param #\u001b[0m\u001b[1m \u001b[0m┃\n",
       "┡━━━━━━━━━━━━━━━━━━━━━━━━━━━━━━━━━╇━━━━━━━━━━━━━━━━━━━━━━━━╇━━━━━━━━━━━━━━━┩\n",
       "│ embedding (\u001b[38;5;33mEmbedding\u001b[0m)           │ (\u001b[38;5;34m32\u001b[0m, \u001b[38;5;34m500\u001b[0m, \u001b[38;5;34m128\u001b[0m)         │     \u001b[38;5;34m1,280,000\u001b[0m │\n",
       "├─────────────────────────────────┼────────────────────────┼───────────────┤\n",
       "│ simple_rnn (\u001b[38;5;33mSimpleRNN\u001b[0m)          │ (\u001b[38;5;34m32\u001b[0m, \u001b[38;5;34m128\u001b[0m)              │        \u001b[38;5;34m32,896\u001b[0m │\n",
       "├─────────────────────────────────┼────────────────────────┼───────────────┤\n",
       "│ dense (\u001b[38;5;33mDense\u001b[0m)                   │ (\u001b[38;5;34m32\u001b[0m, \u001b[38;5;34m1\u001b[0m)                │           \u001b[38;5;34m129\u001b[0m │\n",
       "└─────────────────────────────────┴────────────────────────┴───────────────┘\n"
      ]
     },
     "metadata": {},
     "output_type": "display_data"
    },
    {
     "data": {
      "text/html": [
       "<pre style=\"white-space:pre;overflow-x:auto;line-height:normal;font-family:Menlo,'DejaVu Sans Mono',consolas,'Courier New',monospace\"><span style=\"font-weight: bold\"> Total params: </span><span style=\"color: #00af00; text-decoration-color: #00af00\">1,313,027</span> (5.01 MB)\n",
       "</pre>\n"
      ],
      "text/plain": [
       "\u001b[1m Total params: \u001b[0m\u001b[38;5;34m1,313,027\u001b[0m (5.01 MB)\n"
      ]
     },
     "metadata": {},
     "output_type": "display_data"
    },
    {
     "data": {
      "text/html": [
       "<pre style=\"white-space:pre;overflow-x:auto;line-height:normal;font-family:Menlo,'DejaVu Sans Mono',consolas,'Courier New',monospace\"><span style=\"font-weight: bold\"> Trainable params: </span><span style=\"color: #00af00; text-decoration-color: #00af00\">1,313,025</span> (5.01 MB)\n",
       "</pre>\n"
      ],
      "text/plain": [
       "\u001b[1m Trainable params: \u001b[0m\u001b[38;5;34m1,313,025\u001b[0m (5.01 MB)\n"
      ]
     },
     "metadata": {},
     "output_type": "display_data"
    },
    {
     "data": {
      "text/html": [
       "<pre style=\"white-space:pre;overflow-x:auto;line-height:normal;font-family:Menlo,'DejaVu Sans Mono',consolas,'Courier New',monospace\"><span style=\"font-weight: bold\"> Non-trainable params: </span><span style=\"color: #00af00; text-decoration-color: #00af00\">0</span> (0.00 B)\n",
       "</pre>\n"
      ],
      "text/plain": [
       "\u001b[1m Non-trainable params: \u001b[0m\u001b[38;5;34m0\u001b[0m (0.00 B)\n"
      ]
     },
     "metadata": {},
     "output_type": "display_data"
    },
    {
     "data": {
      "text/html": [
       "<pre style=\"white-space:pre;overflow-x:auto;line-height:normal;font-family:Menlo,'DejaVu Sans Mono',consolas,'Courier New',monospace\"><span style=\"font-weight: bold\"> Optimizer params: </span><span style=\"color: #00af00; text-decoration-color: #00af00\">2</span> (12.00 B)\n",
       "</pre>\n"
      ],
      "text/plain": [
       "\u001b[1m Optimizer params: \u001b[0m\u001b[38;5;34m2\u001b[0m (12.00 B)\n"
      ]
     },
     "metadata": {},
     "output_type": "display_data"
    }
   ],
   "source": [
    "# Load the model with ReLU activation\n",
    "model=load_model('simple_rnn_imdb.h5')\n",
    "model.summary()"
   ]
  },
  {
   "cell_type": "code",
   "execution_count": 4,
   "id": "a4aea68c",
   "metadata": {},
   "outputs": [
    {
     "data": {
      "text/plain": [
       "[array([[-0.06653288,  0.23713808, -0.00025538, ...,  0.03900815,\n",
       "         -0.04740977,  0.10513426],\n",
       "        [-0.02543151,  0.02230267,  0.01065705, ...,  0.04654005,\n",
       "          0.01613627, -0.01859579],\n",
       "        [-0.03364082,  0.06454203,  0.02833467, ...,  0.0156059 ,\n",
       "          0.02845801,  0.09667169],\n",
       "        ...,\n",
       "        [-0.23504782, -0.17787486,  0.184296  , ...,  0.10027442,\n",
       "         -0.21636954, -0.17890899],\n",
       "        [-0.01455035,  0.02119309,  0.09469942, ..., -0.02008568,\n",
       "          0.01369785, -0.04136998],\n",
       "        [-0.10069582, -0.10206347,  0.1310607 , ...,  0.12861957,\n",
       "         -0.09399514, -0.03698193]], shape=(10000, 128), dtype=float32),\n",
       " array([[ 0.17620546,  0.00127029, -0.09025618, ...,  0.02403285,\n",
       "         -0.0710863 , -0.07103975],\n",
       "        [-0.07825341, -0.05577648, -0.07461614, ..., -0.03966845,\n",
       "          0.11019137, -0.040674  ],\n",
       "        [-0.04333439, -0.07956881, -0.13006929, ..., -0.05292989,\n",
       "          0.09433775,  0.14477609],\n",
       "        ...,\n",
       "        [ 0.11306389,  0.00968418, -0.08918991, ..., -0.06003631,\n",
       "          0.06268918,  0.05354466],\n",
       "        [-0.0367311 ,  0.05443861,  0.15929855, ...,  0.04426844,\n",
       "          0.06301238, -0.00517556],\n",
       "        [-0.13957348, -0.16325873, -0.09190821, ..., -0.16551226,\n",
       "         -0.10139454, -0.09256548]], shape=(128, 128), dtype=float32),\n",
       " array([[-0.04479731, -0.14204066, -0.09389614, ..., -0.04365764,\n",
       "         -0.00195922,  0.07365257],\n",
       "        [ 0.12689705,  0.00484881, -0.09842002, ...,  0.00097762,\n",
       "         -0.01291295,  0.19100282],\n",
       "        [ 0.12481075,  0.05629943, -0.11313242, ...,  0.06021491,\n",
       "         -0.16487817, -0.01681175],\n",
       "        ...,\n",
       "        [-0.12550387, -0.00245149, -0.09570587, ..., -0.05056714,\n",
       "         -0.0402646 ,  0.10459374],\n",
       "        [-0.00041068, -0.09752131, -0.0530673 , ..., -0.02015781,\n",
       "         -0.00829069,  0.1911934 ],\n",
       "        [ 0.11137038, -0.06244627,  0.1437455 , ...,  0.15665956,\n",
       "          0.12001572,  0.07859711]], shape=(128, 128), dtype=float32),\n",
       " array([-1.31920708e-04,  5.45783958e-04, -3.74532677e-02, -5.63687598e-03,\n",
       "        -3.23080122e-02, -1.62681527e-02, -3.83546273e-03,  5.73270768e-03,\n",
       "         3.45814973e-02, -6.64825272e-03,  4.11274703e-03, -8.72076396e-03,\n",
       "        -1.98295433e-02, -2.42016669e-02,  1.32074291e-02,  1.41461706e-03,\n",
       "        -2.12021321e-02, -8.39679968e-03, -2.80294530e-02, -3.69391702e-02,\n",
       "         6.15172740e-03,  1.52184097e-02, -1.50925862e-02, -2.06919089e-02,\n",
       "         8.68990086e-03, -1.05364444e-02, -3.76714692e-02, -1.57476012e-02,\n",
       "        -2.80838739e-02, -2.33703982e-02,  1.15540195e-02, -2.01821290e-02,\n",
       "         6.62005506e-03,  2.74004191e-02,  6.95670582e-03, -1.38671296e-02,\n",
       "        -4.09058854e-02,  3.39932553e-03,  3.72886728e-03,  2.47388519e-02,\n",
       "         1.41646899e-02, -2.33700667e-02,  3.11694462e-02,  1.03190457e-02,\n",
       "         1.73321776e-02, -5.39044999e-02, -2.40531983e-03,  9.14193224e-03,\n",
       "         2.49723475e-02,  2.26324238e-02, -2.31434200e-02, -1.28129241e-03,\n",
       "         1.45105729e-02,  1.48264901e-03,  6.12787530e-03, -5.72560169e-02,\n",
       "        -3.55596305e-04, -1.66470837e-02,  1.84784867e-02,  6.71382062e-03,\n",
       "        -2.52973307e-02, -2.57093064e-03, -1.76309347e-02, -3.19788158e-02,\n",
       "         5.45634655e-03, -3.12373415e-02, -1.73451621e-02, -4.91340384e-02,\n",
       "         3.81015016e-05,  4.49050392e-04, -6.60481118e-03, -1.61369033e-02,\n",
       "        -3.81429829e-02, -3.37991640e-02,  3.16383541e-02,  5.96873323e-03,\n",
       "         8.08445551e-03, -2.17116880e-03, -7.23155215e-03,  1.61626134e-02,\n",
       "        -2.77641919e-02,  6.97217556e-03, -1.82566810e-02,  9.52143804e-04,\n",
       "         1.60594229e-02,  6.53429423e-03, -1.30749529e-03, -3.26102301e-02,\n",
       "         1.61775332e-02,  1.56988273e-03,  5.76993171e-03, -3.13880630e-02,\n",
       "        -1.60931684e-02,  4.18695388e-03, -2.59623043e-02, -1.72089264e-02,\n",
       "        -5.15754567e-03, -1.45162428e-02, -3.60102989e-02, -3.01606078e-02,\n",
       "        -2.46273521e-02, -4.72152932e-03,  4.16455697e-03, -4.03353013e-03,\n",
       "        -3.98221333e-03, -1.20964190e-02, -1.28751080e-02, -2.20693760e-02,\n",
       "         1.32825086e-02,  1.37942154e-02, -1.61120831e-03,  1.09537004e-03,\n",
       "         1.92035809e-02, -2.23097038e-02,  1.14074703e-02, -1.58242043e-02,\n",
       "         3.25471051e-02, -1.40588945e-02,  2.10650712e-02, -1.92904379e-02,\n",
       "         1.22837676e-02, -2.24453155e-02, -1.88882239e-02, -2.60285032e-03,\n",
       "         1.76184792e-02, -2.87102778e-02, -1.58589613e-02, -9.94010735e-03],\n",
       "       dtype=float32),\n",
       " array([[-2.61344373e-01],\n",
       "        [-9.02585462e-02],\n",
       "        [ 4.69390750e-02],\n",
       "        [ 1.80099353e-01],\n",
       "        [ 1.60715401e-01],\n",
       "        [ 2.45984402e-02],\n",
       "        [-1.79462993e+00],\n",
       "        [-2.05484211e-01],\n",
       "        [-3.45850103e-02],\n",
       "        [ 2.58102238e-01],\n",
       "        [-2.11838305e-01],\n",
       "        [ 8.97913516e-01],\n",
       "        [-1.29733443e-01],\n",
       "        [-1.37082860e-02],\n",
       "        [ 1.35633692e-01],\n",
       "        [-6.05871677e-01],\n",
       "        [ 2.29597986e-01],\n",
       "        [ 4.01708931e-02],\n",
       "        [ 1.07938819e-01],\n",
       "        [-5.35417438e-01],\n",
       "        [-1.60782203e-01],\n",
       "        [ 2.46304244e-01],\n",
       "        [ 1.93997443e-01],\n",
       "        [ 2.68973857e-01],\n",
       "        [-2.18491200e-02],\n",
       "        [ 2.59674460e-01],\n",
       "        [ 8.13601911e-02],\n",
       "        [ 7.58166388e-02],\n",
       "        [ 4.21563722e-02],\n",
       "        [ 2.04546619e-02],\n",
       "        [-4.91041727e-02],\n",
       "        [-6.41726777e-02],\n",
       "        [ 1.18230055e-05],\n",
       "        [ 2.57339120e-01],\n",
       "        [-1.76325992e-01],\n",
       "        [-3.44338894e-01],\n",
       "        [-3.68113458e-01],\n",
       "        [-1.39656651e+00],\n",
       "        [-8.31990540e-02],\n",
       "        [ 9.03283507e-02],\n",
       "        [-1.21662535e-01],\n",
       "        [ 4.32848595e-02],\n",
       "        [ 1.72242358e-01],\n",
       "        [ 1.65933356e-01],\n",
       "        [-2.63702750e-01],\n",
       "        [ 1.60710290e-01],\n",
       "        [ 3.18698622e-02],\n",
       "        [-1.00304639e+00],\n",
       "        [-1.03814948e+00],\n",
       "        [ 1.67421430e-01],\n",
       "        [ 9.50267247e-04],\n",
       "        [-1.91074923e-01],\n",
       "        [ 1.94275647e-01],\n",
       "        [-1.24056071e-01],\n",
       "        [ 1.35096401e-01],\n",
       "        [ 2.07069099e-01],\n",
       "        [ 1.79569319e-01],\n",
       "        [-1.78659186e-01],\n",
       "        [-7.48324441e-03],\n",
       "        [ 2.35294208e-01],\n",
       "        [-4.98508662e-02],\n",
       "        [-1.98478952e-01],\n",
       "        [-1.97265461e-01],\n",
       "        [-1.11531481e-01],\n",
       "        [-2.99379993e-02],\n",
       "        [ 7.47113004e-02],\n",
       "        [-2.19342661e+00],\n",
       "        [-9.55362141e-01],\n",
       "        [-5.70137084e-01],\n",
       "        [ 1.09308489e-01],\n",
       "        [-6.91136122e-02],\n",
       "        [ 1.98243469e-01],\n",
       "        [ 7.15550855e-02],\n",
       "        [-6.05705120e-02],\n",
       "        [-3.00501674e-01],\n",
       "        [ 5.55321723e-02],\n",
       "        [-2.18818322e-01],\n",
       "        [-1.68494403e-01],\n",
       "        [-3.19112726e-02],\n",
       "        [ 1.61526680e-01],\n",
       "        [-3.70292622e-03],\n",
       "        [-1.04193181e-01],\n",
       "        [-1.94425642e-01],\n",
       "        [-1.60228387e-01],\n",
       "        [ 2.12450281e-01],\n",
       "        [ 1.90109611e-01],\n",
       "        [-2.00067475e-01],\n",
       "        [ 4.36673015e-02],\n",
       "        [ 2.32374057e-01],\n",
       "        [-8.76456276e-02],\n",
       "        [-1.11409441e-01],\n",
       "        [ 6.77983686e-02],\n",
       "        [ 9.60289761e-02],\n",
       "        [ 1.44418061e-01],\n",
       "        [-2.29156706e-02],\n",
       "        [-1.00899078e-01],\n",
       "        [-2.14282647e-01],\n",
       "        [-4.72643599e-02],\n",
       "        [ 2.78829243e-02],\n",
       "        [ 2.15240687e-01],\n",
       "        [-2.12406442e-02],\n",
       "        [-1.41530132e+00],\n",
       "        [-2.43388057e-01],\n",
       "        [-1.82056963e-01],\n",
       "        [ 1.74133912e-01],\n",
       "        [-1.83565646e-01],\n",
       "        [-1.18718566e-02],\n",
       "        [-1.93676054e-01],\n",
       "        [-1.33384630e-01],\n",
       "        [ 7.92088881e-02],\n",
       "        [-6.44132048e-02],\n",
       "        [ 1.03947483e-01],\n",
       "        [-6.11938797e-02],\n",
       "        [-3.54534499e-02],\n",
       "        [-2.10498124e-01],\n",
       "        [ 1.41849160e-01],\n",
       "        [-1.93765670e-01],\n",
       "        [-2.21771583e-01],\n",
       "        [ 1.22078329e-01],\n",
       "        [-1.91881627e-01],\n",
       "        [-1.58987492e-01],\n",
       "        [-4.71376963e-02],\n",
       "        [-1.05996780e-01],\n",
       "        [-1.31064880e+00],\n",
       "        [ 1.07829511e-01],\n",
       "        [-4.26178612e-02],\n",
       "        [ 1.68214813e-01],\n",
       "        [-2.57606208e-01]], dtype=float32),\n",
       " array([-1.7408602], dtype=float32)]"
      ]
     },
     "execution_count": 4,
     "metadata": {},
     "output_type": "execute_result"
    }
   ],
   "source": [
    "model.get_weights()"
   ]
  },
  {
   "cell_type": "code",
   "execution_count": 5,
   "id": "46c47699",
   "metadata": {},
   "outputs": [],
   "source": [
    "# Step 2: Helper Functions\n",
    "\n",
    "# Function to decode reviews\n",
    "def decode_review(encoded_review):\n",
    "    return ' '.join([reverse_word_index.get(i - 3, '?') for i in encoded_review])\n",
    "\n",
    "# Function to preprocess user input\n",
    "def preprocess_text(text):\n",
    "    words = text.lower().split()\n",
    "    encoded_review = [word_index.get(word, 2) + 3 for word in words]\n",
    "    padded_review=sequence.pad_sequences([encoded_review],maxlen=500)\n",
    "    return padded_review\n"
   ]
  },
  {
   "cell_type": "code",
   "execution_count": 6,
   "id": "1893afb0",
   "metadata": {},
   "outputs": [],
   "source": [
    "## Prediction function\n",
    "\n",
    "def predict_sentiment(review):\n",
    "    preprocced_input=preprocess_text(review)\n",
    "\n",
    "    prediction=model.predict(preprocced_input)\n",
    "\n",
    "    sentiment='Positive'if prediction[0][0]>0.5 else 'Negative'\n",
    "\n",
    "    return sentiment,prediction[0][0]"
   ]
  },
  {
   "cell_type": "code",
   "execution_count": 11,
   "id": "2fd1617d",
   "metadata": {},
   "outputs": [],
   "source": [
    "# Step4: User Input and Prediction\n",
    "# Example review for prediction\n",
    "\n",
    "example_review1=\"This movie was fantastic ! The acting was great and the plot was thrilling\"\n",
    "\n",
    "example_review2=\"This movie was worst The acting was not good\""
   ]
  },
  {
   "cell_type": "code",
   "execution_count": 8,
   "id": "012d03ca",
   "metadata": {},
   "outputs": [
    {
     "name": "stdout",
     "output_type": "stream",
     "text": [
      "\u001b[1m1/1\u001b[0m \u001b[32m━━━━━━━━━━━━━━━━━━━━\u001b[0m\u001b[37m\u001b[0m \u001b[1m0s\u001b[0m 179ms/step\n"
     ]
    }
   ],
   "source": [
    "sentiment,score=predict_sentiment(example_review1)"
   ]
  },
  {
   "cell_type": "code",
   "execution_count": 9,
   "id": "50884316",
   "metadata": {},
   "outputs": [
    {
     "name": "stdout",
     "output_type": "stream",
     "text": [
      "Review: This movie was fantastic ! The acting was great and the plot was thrilling\n",
      "Sentiment: Positive\n",
      "Prediction Score: 0.9669758081436157\n"
     ]
    }
   ],
   "source": [
    "print(f'Review: {example_review1}')\n",
    "print(f'Sentiment: {sentiment}')\n",
    "print(f'Prediction Score: {score}')"
   ]
  },
  {
   "cell_type": "code",
   "execution_count": 12,
   "id": "24e7c9e4",
   "metadata": {},
   "outputs": [
    {
     "name": "stdout",
     "output_type": "stream",
     "text": [
      "\u001b[1m1/1\u001b[0m \u001b[32m━━━━━━━━━━━━━━━━━━━━\u001b[0m\u001b[37m\u001b[0m \u001b[1m0s\u001b[0m 109ms/step\n",
      "Review: This movie was worst The acting was not good\n",
      "Sentiment: Negative\n",
      "Prediction Score: 0.39798757433891296\n"
     ]
    }
   ],
   "source": [
    "sentiment,score=predict_sentiment(example_review2)\n",
    "\n",
    "print(f'Review: {example_review2}')\n",
    "print(f'Sentiment: {sentiment}')\n",
    "print(f'Prediction Score: {score}')"
   ]
  },
  {
   "cell_type": "code",
   "execution_count": null,
   "id": "a4b7b4a2",
   "metadata": {},
   "outputs": [],
   "source": []
  },
  {
   "cell_type": "code",
   "execution_count": null,
   "id": "09d47b60",
   "metadata": {},
   "outputs": [],
   "source": []
  }
 ],
 "metadata": {
  "kernelspec": {
   "display_name": "Python 3",
   "language": "python",
   "name": "python3"
  },
  "language_info": {
   "codemirror_mode": {
    "name": "ipython",
    "version": 3
   },
   "file_extension": ".py",
   "mimetype": "text/x-python",
   "name": "python",
   "nbconvert_exporter": "python",
   "pygments_lexer": "ipython3",
   "version": "3.11.0"
  }
 },
 "nbformat": 4,
 "nbformat_minor": 5
}
